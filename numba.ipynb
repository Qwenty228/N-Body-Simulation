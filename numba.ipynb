{
 "cells": [
  {
   "cell_type": "code",
   "execution_count": 2,
   "metadata": {},
   "outputs": [],
   "source": [
    "import time\n",
    "from numpy import sin, pi\n",
    "\n",
    "\n",
    "def f(n):\n",
    "    t0 = time.time()\n",
    "    result = 0.0\n",
    "    for i in range(n):\n",
    "        for j in range(n * i):\n",
    "            result += sin(pi / 2)\n",
    "    return int(result), time.time()-t0"
   ]
  },
  {
   "cell_type": "code",
   "execution_count": 3,
   "metadata": {},
   "outputs": [
    {
     "name": "stdout",
     "output_type": "stream",
     "text": [
      "Number of Loops: 62375000\n",
      "Time in Sec for Python   39.685\n"
     ]
    }
   ],
   "source": [
    "n = 500\n",
    "res_py = f(n)\n",
    "\n",
    "print(\"Number of Loops:         %8d\" % res_py[0])\n",
    "print(\"Time in Sec for Python   %8.3f\" % res_py[1])"
   ]
  },
  {
   "cell_type": "code",
   "execution_count": 13,
   "metadata": {},
   "outputs": [
    {
     "data": {
      "text/plain": [
       "'0.60.0'"
      ]
     },
     "metadata": {},
     "output_type": "display_data"
    },
    {
     "name": "stdout",
     "output_type": "stream",
     "text": [
      "Found 1 CUDA devices\n",
      "id 0    b'NVIDIA GeForce RTX 3060 Laptop GPU'                              [SUPPORTED]\n",
      "                      Compute Capability: 8.6\n",
      "                           PCI Device ID: 0\n",
      "                              PCI Bus ID: 1\n",
      "                                    UUID: GPU-c341268f-ee08-31eb-f5f6-7c749dc4980f\n",
      "                                Watchdog: Enabled\n",
      "                            Compute Mode: WDDM\n",
      "             FP32/FP64 Performance Ratio: 32\n",
      "Summary:\n",
      "\t1/1 devices are supported\n"
     ]
    },
    {
     "data": {
      "text/plain": [
       "True"
      ]
     },
     "execution_count": 13,
     "metadata": {},
     "output_type": "execute_result"
    }
   ],
   "source": [
    "import numba\n",
    "from numba import jit, cuda, objmode\n",
    "\n",
    "display(numba.__version__)\n",
    "cuda.detect()"
   ]
  },
  {
   "cell_type": "code",
   "execution_count": 19,
   "metadata": {},
   "outputs": [
    {
     "name": "stdout",
     "output_type": "stream",
     "text": [
      "Number of Loops:      62375000\n",
      "Time in Sec for Numba    0.047\n"
     ]
    }
   ],
   "source": [
    "@jit(nopython=True)\n",
    "def f_nb(n):\n",
    "    with objmode(t0='f8'):\n",
    "        t0 = time.time()\n",
    "    result = 0.0\n",
    "    for i in range(n):\n",
    "        for j in range(n * i):\n",
    "            result += sin(pi / 2)\n",
    "\n",
    "    with objmode(t1='f8'):\n",
    "        t1 = time.time()-t0\n",
    "    return int(result), t1\n",
    "    \n",
    "\n",
    "\n",
    "\n",
    "res_nb = f_nb(n)\n",
    "\n",
    "print(\"Number of Loops:      %8d\" % res_nb[0])\n",
    "print(\"Time in Sec for Numba %8.3f\" % res_nb[1])"
   ]
  },
  {
   "cell_type": "code",
   "execution_count": 18,
   "metadata": {},
   "outputs": [
    {
     "name": "stdout",
     "output_type": "stream",
     "text": [
      "Number of Loops        62375000\n",
      "Speed-up of Numba           811\n"
     ]
    }
   ],
   "source": [
    "print(\"Number of Loops        %8d\" % res_py[0])\n",
    "print(\"Speed-up of Numba      %8d\" % (res_py[1] / res_nb[1]))"
   ]
  },
  {
   "cell_type": "code",
   "execution_count": null,
   "metadata": {},
   "outputs": [],
   "source": []
  }
 ],
 "metadata": {
  "kernelspec": {
   "display_name": "Python 3",
   "language": "python",
   "name": "python3"
  },
  "language_info": {
   "codemirror_mode": {
    "name": "ipython",
    "version": 3
   },
   "file_extension": ".py",
   "mimetype": "text/x-python",
   "name": "python",
   "nbconvert_exporter": "python",
   "pygments_lexer": "ipython3",
   "version": "3.11.5"
  }
 },
 "nbformat": 4,
 "nbformat_minor": 2
}
