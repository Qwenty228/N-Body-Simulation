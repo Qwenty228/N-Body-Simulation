{
 "cells": [
  {
   "cell_type": "markdown",
   "metadata": {},
   "source": [
    "# Pure Python Sim\n",
    "The simulation of the movement of **N bodies** in relation to each other.\\\n",
    "The basic simulation algorithm involves a number of iterations.\\\n",
    "*A description and discussion of the algorithm is found in the recent article Vladimirov, Andrey and Vadim Karpusenko (2013): \"Test-Driving Intel Xeon-Phi Coprocessors with a Basic N-Body Simulation.\" White Paper, Colfax International.*"
   ]
  },
  {
   "cell_type": "code",
   "execution_count": 8,
   "metadata": {},
   "outputs": [
    {
     "data": {
      "text/plain": [
       "[[-0.8090111126214135, 1.6136007087233417, 0.793650447437479],\n",
       " [1.7873278271315536, -1.340990783426187, 1.0206981445212107],\n",
       " [-0.9405084351407464, 0.47910013923074113, -1.4925151448676905]]"
      ]
     },
     "execution_count": 8,
     "metadata": {},
     "output_type": "execute_result"
    }
   ],
   "source": [
    "import random\n",
    "import time\n",
    "from numpy import sqrt\n",
    "\n",
    "nParticles = 1000\n",
    "particles = []\n",
    "for i in range(nParticles):\n",
    "    particles.append([random.gauss(0.0, 1.0) for j in range(3)])\n",
    "\n",
    "particlev = [[0, 0, 0] for _ in particles]\n",
    "particles[:3]"
   ]
  },
  {
   "cell_type": "code",
   "execution_count": 39,
   "metadata": {},
   "outputs": [],
   "source": [
    "def nbody(particle, particlev):  # lists as input\n",
    "    t0 = time.time(); nSteps = 5; dt = 0.01\n",
    "    for step in range(1, nSteps + 1):\n",
    "        for i in range(nParticles):\n",
    "            Fx, Fy, Fz = 0.0, 0.0, 0.0\n",
    "            for j in range(nParticles):\n",
    "                if j != i:\n",
    "                    dx = particle[j][0] - particle[i][0]\n",
    "                    dy = particle[j][1] - particle[i][1]\n",
    "                    dz = particle[j][2] - particle[i][2]\n",
    "                    drSquared = dx * dx + dy * dy + dz * dz \n",
    "                    drPowerN32 = 1.0 / (drSquared + sqrt(drSquared)) # 1 / distance \n",
    "                    Fx += dx * drPowerN32\n",
    "                    Fy += dy * drPowerN32\n",
    "                    Fz += dz * drPowerN32\n",
    "                particlev[i][0] += dt * Fx\n",
    "                particlev[i][1] += dt * Fy\n",
    "                particlev[i][2] += dt * Fz\n",
    "        for i in range(nParticles):\n",
    "            particle[i][0] += particlev[i][0] * dt\n",
    "            particle[i][1] += particlev[i][1] * dt\n",
    "            particle[i][2] += particlev[i][2] * dt\n",
    "    return time.time() - t0"
   ]
  },
  {
   "cell_type": "code",
   "execution_count": 40,
   "metadata": {},
   "outputs": [
    {
     "name": "stdout",
     "output_type": "stream",
     "text": [
      "CPU times: total: 14.4 s\n",
      "Wall time: 16.5 s\n"
     ]
    }
   ],
   "source": [
    "%time ti_py = nbody(particles, particlev)"
   ]
  },
  {
   "cell_type": "markdown",
   "metadata": {},
   "source": [
    "# NumPy \n",
    "vectorization of operation"
   ]
  },
  {
   "cell_type": "code",
   "execution_count": 13,
   "metadata": {},
   "outputs": [],
   "source": [
    "import numpy as np"
   ]
  },
  {
   "cell_type": "code",
   "execution_count": 15,
   "metadata": {},
   "outputs": [],
   "source": [
    "particles = np.random.standard_normal((nParticles, 3))\n",
    "particlev = np.zeros_like(particles)"
   ]
  },
  {
   "cell_type": "code",
   "execution_count": 41,
   "metadata": {},
   "outputs": [
    {
     "data": {
      "text/plain": [
       "0.23354125022888184"
      ]
     },
     "execution_count": 41,
     "metadata": {},
     "output_type": "execute_result"
    }
   ],
   "source": [
    "def nbody_np(particle, particlev):  # NumPy arrays as input\n",
    "    t0 = time.time(); nSteps = 5; dt = 0.01\n",
    "    for step in range(1, nSteps + 1, 1):\n",
    "        Fp = np.zeros((nParticles, 3))\n",
    "        for i in range(nParticles):\n",
    "            dp = particle - particle[i]\n",
    "            drSquared = np.sum(dp ** 2, axis=1)\n",
    "            h = drSquared + np.sqrt(drSquared)\n",
    "            # drPowerN32 = np.where(h > 0., 1. / h, 1E-10)\n",
    "            drPowerN32 = 1. / np.maximum(h, 1E-10)\n",
    "            Fp += -(dp.T * drPowerN32).T\n",
    "            particlev += dt * Fp\n",
    "        particle += particlev * dt\n",
    "    return time.time() - t0\n",
    "\n",
    "nbody_np(particles, particlev)\n"
   ]
  },
  {
   "cell_type": "code",
   "execution_count": 42,
   "metadata": {},
   "outputs": [
    {
     "name": "stdout",
     "output_type": "stream",
     "text": [
      "CPU times: total: 156 ms\n",
      "Wall time: 227 ms\n"
     ]
    }
   ],
   "source": [
    "%time ti_np = nbody_np(particles, particlev)"
   ]
  },
  {
   "cell_type": "markdown",
   "metadata": {},
   "source": [
    "# Numba JIT"
   ]
  },
  {
   "cell_type": "code",
   "execution_count": 43,
   "metadata": {},
   "outputs": [],
   "source": [
    "from numba import jit, objmode\n",
    "\n",
    "@jit(nopython=True)\n",
    "def nbody_nb(particle, particlev):  # NumPy arrays as input\n",
    "    with objmode(t0='f8'):\n",
    "        t0 = time.time()\n",
    "    nSteps = 5; dt = 0.01\n",
    "    for step in range(1, nSteps + 1, 1):\n",
    "        for i in range(nParticles):\n",
    "            Fx = 0.0; Fy = 0.0; Fz = 0.0\n",
    "            for j in range(nParticles):\n",
    "                if j != i:\n",
    "                    dx = particle[j,0] - particle[i,0]\n",
    "                    dy = particle[j,1] - particle[i,1]\n",
    "                    dz = particle[j,2] - particle[i,2]\n",
    "                    drSquared = dx * dx + dy * dy + dz * dz\n",
    "                    drPowerN32 = 1.0 / (drSquared + sqrt(drSquared))\n",
    "                    Fx += dx * drPowerN32\n",
    "                    Fy += dy * drPowerN32\n",
    "                    Fz += dz * drPowerN32\n",
    "                particlev[i, 0] += dt * Fx\n",
    "                particlev[i, 1] += dt * Fy\n",
    "                particlev[i, 2] += dt * Fz\n",
    "        for i in range(nParticles):\n",
    "            particle[i,0] += particlev[i,0] * dt\n",
    "            particle[i,1] += particlev[i,1] * dt\n",
    "            particle[i,2] += particlev[i,2] * dt\n",
    "    with objmode(t1 = 'f8'):\n",
    "        t1 = time.time() - t0\n",
    "    return t1\n",
    "\n",
    "firstrun = nbody_nb(particles, particlev)\n"
   ]
  },
  {
   "cell_type": "code",
   "execution_count": 44,
   "metadata": {},
   "outputs": [
    {
     "name": "stdout",
     "output_type": "stream",
     "text": [
      "CPU times: total: 15.6 ms\n",
      "Wall time: 23 ms\n"
     ]
    }
   ],
   "source": [
    "%time ti_nb = nbody_nb(particles, particlev)"
   ]
  },
  {
   "cell_type": "markdown",
   "metadata": {},
   "source": [
    "# Optimized Numba"
   ]
  },
  {
   "cell_type": "code",
   "execution_count": 45,
   "metadata": {},
   "outputs": [
    {
     "data": {
      "text/plain": [
       "0.005051136016845703"
      ]
     },
     "execution_count": 45,
     "metadata": {},
     "output_type": "execute_result"
    }
   ],
   "source": [
    "import numba\n",
    "\n",
    "@numba.njit('(float64[:,:], float64[:,:])', cache=True, fastmath=True, parallel=True)\n",
    "def nbody_nb(particle, particlev):  # NumPy arrays as input\n",
    "    with objmode(t0='f8'):\n",
    "        t0 = time.time()\n",
    "    nSteps = 5; dt = 0.01\n",
    "    for step in range(1, nSteps + 1, 1):\n",
    "        for i in numba.prange(nParticles):\n",
    "            Fx = 0.0; Fy = 0.0; Fz = 0.0\n",
    "            for j in numba.prange(nParticles):\n",
    "                if j != i:\n",
    "                    dx = particle[j,0] - particle[i,0]\n",
    "                    dy = particle[j,1] - particle[i,1]\n",
    "                    dz = particle[j,2] - particle[i,2]\n",
    "                    drSquared = dx * dx + dy * dy + dz * dz\n",
    "                    drPowerN32 = 1.0 / (drSquared + sqrt(drSquared))\n",
    "                    Fx += dx * drPowerN32\n",
    "                    Fy += dy * drPowerN32\n",
    "                    Fz += dz * drPowerN32\n",
    "                particlev[i, 0] += dt * Fx\n",
    "                particlev[i, 1] += dt * Fy\n",
    "                particlev[i, 2] += dt * Fz\n",
    "        for i in numba.prange(nParticles):\n",
    "            particle[i,0] += particlev[i,0] * dt\n",
    "            particle[i,1] += particlev[i,1] * dt\n",
    "            particle[i,2] += particlev[i,2] * dt\n",
    "    with objmode(t1='f8'):\n",
    "        t1 = time.time() - t0\n",
    "    return t1\n",
    "nbody_nb(particles, particlev)\n"
   ]
  },
  {
   "cell_type": "code",
   "execution_count": 46,
   "metadata": {},
   "outputs": [
    {
     "name": "stdout",
     "output_type": "stream",
     "text": [
      "CPU times: total: 15.6 ms\n",
      "Wall time: 4 ms\n"
     ]
    }
   ],
   "source": [
    "%time ti_nb = nbody_nb(particles, particlev)"
   ]
  },
  {
   "cell_type": "code",
   "execution_count": 53,
   "metadata": {},
   "outputs": [
    {
     "name": "stdout",
     "output_type": "stream",
     "text": [
      "Numba speed up from numpy vectorizated operation by 57 times\n"
     ]
    }
   ],
   "source": [
    "print(f\"Numba speed up from numpy vectorizated operation by {ti_np / ti_nb:.0f} times\")  # speed-up vs. NumPy function"
   ]
  },
  {
   "cell_type": "code",
   "execution_count": 55,
   "metadata": {},
   "outputs": [
    {
     "name": "stdout",
     "output_type": "stream",
     "text": [
      "Numba speed up pure python by 4126 times\n"
     ]
    }
   ],
   "source": [
    "print(f\"Numba speed up pure python by {ti_py / ti_nb:.0f} times\")  # speed-up vs. pure Python function\n"
   ]
  }
 ],
 "metadata": {
  "kernelspec": {
   "display_name": "Python 3",
   "language": "python",
   "name": "python3"
  },
  "language_info": {
   "codemirror_mode": {
    "name": "ipython",
    "version": 3
   },
   "file_extension": ".py",
   "mimetype": "text/x-python",
   "name": "python",
   "nbconvert_exporter": "python",
   "pygments_lexer": "ipython3",
   "version": "3.11.5"
  }
 },
 "nbformat": 4,
 "nbformat_minor": 2
}
